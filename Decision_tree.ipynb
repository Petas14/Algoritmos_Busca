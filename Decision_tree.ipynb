{
  "nbformat": 4,
  "nbformat_minor": 0,
  "metadata": {
    "colab": {
      "provenance": [],
      "authorship_tag": "ABX9TyNlX4F3sDCWUhlNWP+K8/jw",
      "include_colab_link": true
    },
    "kernelspec": {
      "name": "python3",
      "display_name": "Python 3"
    },
    "language_info": {
      "name": "python"
    }
  },
  "cells": [
    {
      "cell_type": "markdown",
      "metadata": {
        "id": "view-in-github",
        "colab_type": "text"
      },
      "source": [
        "<a href=\"https://colab.research.google.com/github/Petas14/Algoritmos_Ordenacao/blob/main/Decision_tree.ipynb\" target=\"_parent\"><img src=\"https://colab.research.google.com/assets/colab-badge.svg\" alt=\"Open In Colab\"/></a>"
      ]
    },
    {
      "cell_type": "code",
      "execution_count": null,
      "metadata": {
        "id": "Nu5gszX5ETov"
      },
      "outputs": [],
      "source": [
        "import numpy as np\n",
        "import matplotlib.pyplot as plt\n",
        "from sklearn.datasets import load_iris\n",
        "\n",
        "from collections import Counter"
      ]
    },
    {
      "cell_type": "code",
      "source": [
        "data = load_iris()\n",
        "X = data['data']\n",
        "y = data['target']"
      ],
      "metadata": {
        "id": "sUaTYDL5Ewzw"
      },
      "execution_count": null,
      "outputs": []
    },
    {
      "cell_type": "code",
      "source": [
        "class Node:\n",
        "  def __init__(self,feature = None,threshold = None,left = None,right = None,*,value = None):\n",
        "    self.feature = feature\n",
        "    self.threshold = threshold\n",
        "    self.left = left\n",
        "    self.right = right\n",
        "    self.value = value\n",
        "\n",
        "  def is_leaf_node(self):\n",
        "    return self.value is not None\n",
        "\n",
        "class DT:\n",
        "  def __init__(self,min_samples_split = 2,max_depth = 100,n_features = None):\n",
        "    self.min_samples_split = min_samples_split\n",
        "    self.max_depth = max_depth\n",
        "    self.n_features = n_features\n",
        "    self.root=None\n",
        "\n",
        "  def fit(self,X,y):\n",
        "    self.n_features = X.shape[1] if not self.n_features else min(X.shape[1],self.n_features)\n",
        "    self.root = self._grow_tree(X,y)\n",
        "\n",
        "\n",
        "  def _grow_tree(self,X,y,depth = 0):\n",
        "    n_samples, n_feats = X.shape\n",
        "    n_labels = len(np.unique(y))\n",
        "    # Avaliar condição de parada\n",
        "    if (depth >= self.max_depth or n_labels == 1 or n_samples < self.min_samples_split):\n",
        "      leaf_value = self._most_common_label(y)\n",
        "      return Node(value = leaf_value)\n",
        "\n",
        "    feat_idx = np.random.choice(n_feats,self.n_features,replace = False)\n",
        "    # achar melhor separados\n",
        "    best_thresh,best_feature = self._best_split(X,y,feat_idx)\n",
        "\n",
        "    # gerar uma folha filho\n",
        "    left_idxs, right_idxs = self._split(X[:,best_feature],best_thresh)\n",
        "    left = self._grow_tree(X[left_idxs,:],y[left_idxs],depth+1)\n",
        "    right = self._grow_tree(X[right_idxs,:],y[right_idxs],depth+1)\n",
        "    return Node(best_feature,best_thresh,left,right)\n",
        "\n",
        "\n",
        "  def _best_split(self,X,y,feat_idxs):\n",
        "    best_gain = -1\n",
        "    split_idx, split_threshold = None,None\n",
        "\n",
        "    for feat_idx in feat_idxs:\n",
        "      X_column = X[:,feat_idx]\n",
        "      thresholds = np.unique(X_column)\n",
        "\n",
        "      for thr in thresholds:\n",
        "        gain = self._information_gain(y,X_column,thr)\n",
        "\n",
        "        if gain > best_gain:\n",
        "          best_gain = gain\n",
        "          split_idx = feat_idx\n",
        "          split_threshold = thr\n",
        "    return split_threshold, split_idx\n",
        "\n",
        "  def _information_gain(self,y,X_column,threshold):\n",
        "    parent_entropy = self._entropy(y)\n",
        "\n",
        "    left_idxs, right_idxs = self._split(X_column,threshold)\n",
        "\n",
        "    if len(left_idxs) == 0 or len(right_idxs) == 0:\n",
        "      return 0\n",
        "\n",
        "    n = len(y)\n",
        "    n_l,n_r = len(left_idxs), len(right_idxs)\n",
        "    e_l,e_r = self._entropy(y[left_idxs]),self._entropy(y[right_idxs])\n",
        "    child_entropy = (n_l/n)*e_l + (n_r/n)*e_r\n",
        "    return parent_entropy - child_entropy\n",
        "\n",
        "\n",
        "  def _split(self,X_column,split_thresh):\n",
        "    left_idxs = np.argwhere(X_column<=split_thresh).flatten()\n",
        "    right_idxs = np.argwhere(X_column>split_thresh).flatten()\n",
        "    return left_idxs, right_idxs\n",
        "\n",
        "\n",
        "  def _entropy(self,y):\n",
        "    hist = np.bincount(y)\n",
        "    ps = hist/len(y)\n",
        "    return -np.sum([p*np.log(p) for p in ps if p > 0])\n",
        "\n",
        "  def _most_common_label(self,y):\n",
        "    counter= Counter(y)\n",
        "    value =  counter.most_common(1)[0][0]\n",
        "    return value\n",
        "\n",
        "  def _traverse_tree(self,X,node):\n",
        "    if node.is_leaf_node():\n",
        "      return node.value\n",
        "\n",
        "    if X[node.feature] <= node.threshold:\n",
        "      return self._traverse_tree(X,node.left)\n",
        "    return self._traverse_tree(X,node.right)\n",
        "\n",
        "  def predict(self,X):\n",
        "    return np.array([self._traverse_tree(x,self.root) for x in X])"
      ],
      "metadata": {
        "id": "ZBoZ1OSeEw2m"
      },
      "execution_count": null,
      "outputs": []
    },
    {
      "cell_type": "code",
      "source": [
        "reg = DT()\n",
        "reg.fit(X,y)\n",
        "yhat = reg.predict(X)"
      ],
      "metadata": {
        "id": "1TN1PR1SEw5a"
      },
      "execution_count": null,
      "outputs": []
    },
    {
      "cell_type": "code",
      "source": [
        "print(yhat.flatten())\n",
        "print(y.flatten())"
      ],
      "metadata": {
        "colab": {
          "base_uri": "https://localhost:8080/"
        },
        "id": "PGuFiucFEw8M",
        "outputId": "5a564a43-2fee-40db-f5dc-7d6c87e401f3"
      },
      "execution_count": null,
      "outputs": [
        {
          "output_type": "stream",
          "name": "stdout",
          "text": [
            "[0 0 0 0 0 0 0 0 0 0 0 0 0 0 0 0 0 0 0 0 0 0 0 0 0 0 0 0 0 0 0 0 0 0 0 0 0\n",
            " 0 0 0 0 0 0 0 0 0 0 0 0 0 1 1 1 1 1 1 1 1 1 1 1 1 1 1 1 1 1 1 1 1 1 1 1 1\n",
            " 1 1 1 1 1 1 1 1 1 1 1 1 1 1 1 1 1 1 1 1 1 1 1 1 1 1 2 2 2 2 2 2 2 2 2 2 2\n",
            " 2 2 2 2 2 2 2 2 2 2 2 2 2 2 2 2 2 2 2 2 2 2 2 2 2 2 2 2 2 2 2 2 2 2 2 2 2\n",
            " 2 2]\n",
            "[0 0 0 0 0 0 0 0 0 0 0 0 0 0 0 0 0 0 0 0 0 0 0 0 0 0 0 0 0 0 0 0 0 0 0 0 0\n",
            " 0 0 0 0 0 0 0 0 0 0 0 0 0 1 1 1 1 1 1 1 1 1 1 1 1 1 1 1 1 1 1 1 1 1 1 1 1\n",
            " 1 1 1 1 1 1 1 1 1 1 1 1 1 1 1 1 1 1 1 1 1 1 1 1 1 1 2 2 2 2 2 2 2 2 2 2 2\n",
            " 2 2 2 2 2 2 2 2 2 2 2 2 2 2 2 2 2 2 2 2 2 2 2 2 2 2 2 2 2 2 2 2 2 2 2 2 2\n",
            " 2 2]\n"
          ]
        }
      ]
    },
    {
      "cell_type": "code",
      "source": [],
      "metadata": {
        "id": "_sJy9QLcEw-o"
      },
      "execution_count": null,
      "outputs": []
    },
    {
      "cell_type": "code",
      "source": [],
      "metadata": {
        "id": "rcN7TtmEExBK"
      },
      "execution_count": null,
      "outputs": []
    }
  ]
}