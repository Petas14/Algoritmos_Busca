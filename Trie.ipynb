{
  "nbformat": 4,
  "nbformat_minor": 0,
  "metadata": {
    "colab": {
      "provenance": [],
      "authorship_tag": "ABX9TyNGEaiE5u9WjRuM2JkEWNde",
      "include_colab_link": true
    },
    "kernelspec": {
      "name": "python3",
      "display_name": "Python 3"
    },
    "language_info": {
      "name": "python"
    }
  },
  "cells": [
    {
      "cell_type": "markdown",
      "metadata": {
        "id": "view-in-github",
        "colab_type": "text"
      },
      "source": [
        "<a href=\"https://colab.research.google.com/github/Petas14/Algoritmos_Ordenacao/blob/main/Trie.ipynb\" target=\"_parent\"><img src=\"https://colab.research.google.com/assets/colab-badge.svg\" alt=\"Open In Colab\"/></a>"
      ]
    },
    {
      "cell_type": "markdown",
      "source": [
        "# A ideia é criar uma estrutura do tipo árvore na qual você pode armazenar palavras, e verificar se uma palavra pertence ou não a aquele conjuto. É ideal para armazenar muitos nomes, e a complexidade cresce com o tamanho do nome e não o tamanho do dataset."
      ],
      "metadata": {
        "id": "XK9vCBc0e7Dm"
      }
    },
    {
      "cell_type": "code",
      "execution_count": 1,
      "metadata": {
        "id": "NyBh0U8CWUJZ"
      },
      "outputs": [],
      "source": [
        "class TrieNode:\n",
        "  # Estrutura da árvore\n",
        "  def __init__(self):\n",
        "    self.filho  = {}\n",
        "    self.fim_pal = False\n",
        "\n",
        "\n",
        "class Trie:\n",
        "  def __init__(self):\n",
        "    self.root = TrieNode()\n",
        "\n",
        "  def search(self,text):\n",
        "    # Função para procurar por uma palavra\n",
        "    # Entrada: Str a ser procurada\n",
        "    # Saída: True caso a palavra já foi inserida, False caso contrário\n",
        "    atual = self.root\n",
        "    for c in text:\n",
        "      if c not in atual.filho:\n",
        "        return False\n",
        "      atual = atual.filho[c]\n",
        "    return atual.fim_pal\n",
        "\n",
        "  def insert(self,text):\n",
        "    # Função para inserir as palavras\n",
        "    # Entrada: Str a ser armazenada\n",
        "    atual = self.root\n",
        "    for c in text:\n",
        "      if c not in atual.filho:\n",
        "        atual.filho[c] = TrieNode()\n",
        "      atual = atual.filho[c]\n",
        "      atual.fim_pal = True"
      ]
    },
    {
      "cell_type": "code",
      "source": [
        "a = 'abs'\n",
        "b = 'carro'\n",
        "c = 'casa'\n",
        "f = 'bus'"
      ],
      "metadata": {
        "id": "vEluojlebhT8"
      },
      "execution_count": 9,
      "outputs": []
    },
    {
      "cell_type": "code",
      "source": [
        "T = Trie()"
      ],
      "metadata": {
        "id": "lrhGG68MbhWg"
      },
      "execution_count": 3,
      "outputs": []
    },
    {
      "cell_type": "code",
      "source": [
        "T.insert(a)\n",
        "T.insert(b)\n",
        "T.insert(c)\n",
        "T.insert(f)"
      ],
      "metadata": {
        "id": "BiCG5FmubhZF"
      },
      "execution_count": 4,
      "outputs": []
    },
    {
      "cell_type": "code",
      "source": [
        "T.search(b)\n",
        "b = 'carroz'\n",
        "T.search(b)"
      ],
      "metadata": {
        "colab": {
          "base_uri": "https://localhost:8080/"
        },
        "id": "c7dF7Lpybhbx",
        "outputId": "95282d3f-bd8f-4594-ef15-e3c0ceaba832"
      },
      "execution_count": 10,
      "outputs": [
        {
          "output_type": "execute_result",
          "data": {
            "text/plain": [
              "False"
            ]
          },
          "metadata": {},
          "execution_count": 10
        }
      ]
    },
    {
      "cell_type": "code",
      "source": [],
      "metadata": {
        "id": "JB76d6XrbheR"
      },
      "execution_count": null,
      "outputs": []
    },
    {
      "cell_type": "code",
      "source": [],
      "metadata": {
        "id": "gH7l8MXAbhg2"
      },
      "execution_count": null,
      "outputs": []
    }
  ]
}