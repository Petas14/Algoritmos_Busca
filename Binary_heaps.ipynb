{
  "nbformat": 4,
  "nbformat_minor": 0,
  "metadata": {
    "colab": {
      "provenance": [],
      "authorship_tag": "ABX9TyMD5smINqmWOZrT/Slmv/vS",
      "include_colab_link": true
    },
    "kernelspec": {
      "name": "python3",
      "display_name": "Python 3"
    },
    "language_info": {
      "name": "python"
    }
  },
  "cells": [
    {
      "cell_type": "markdown",
      "metadata": {
        "id": "view-in-github",
        "colab_type": "text"
      },
      "source": [
        "<a href=\"https://colab.research.google.com/github/Petas14/Algoritmos_Ordenacao/blob/main/Binary_heaps.ipynb\" target=\"_parent\"><img src=\"https://colab.research.google.com/assets/colab-badge.svg\" alt=\"Open In Colab\"/></a>"
      ]
    },
    {
      "cell_type": "markdown",
      "source": [
        "##  Heaps Binária seguem a ideia de árvores binárias junto com heaps\n",
        "\n",
        "* ### Então, cada nó pode ter apenas dois filhos\n",
        "\n",
        "* ### A árvore precisa ser completa, ou pelo menos, todos os nós a esquerda estarem ocupados.\n",
        "\n",
        "* ### Ele também vai seguir a idea do heap. Todos os pais devem possuir valores maiores que os filhos (Max). Todos os pais devem possuir valores menores que os filhos (Min)."
      ],
      "metadata": {
        "id": "tHFbP6tdaFDX"
      }
    },
    {
      "cell_type": "code",
      "execution_count": 3,
      "metadata": {
        "id": "ed9VbwCUZZX4"
      },
      "outputs": [],
      "source": [
        "class Min_heap:\n",
        "\n",
        "  def __init__(self,capacidade):\n",
        "    self.cap = capacidade\n",
        "    self.arm = [0]*self.cap\n",
        "    self.size = 0\n",
        "\n",
        "  def get_parent_index(self,index):\n",
        "    return (index - 1)//2\n",
        "  def get_left_child_index(self,index):\n",
        "    return 2*index + 1\n",
        "  def get_right_child_index(self,index):\n",
        "    return 2*index + 2\n",
        "\n",
        "  def has_parent(self,index):\n",
        "    return self.get_parent_index(index) >= 0\n",
        "\n",
        "  def has_left_child(self,index):\n",
        "    return self.get_left_child_index(index) < self.size\n",
        "\n",
        "  def has_right_child(self,index):\n",
        "    return self.get_right_child_index(index) < self.size\n",
        "\n",
        "  def parent(self,index):\n",
        "    return self.arm[self.get_parent_index(index)]\n",
        "\n",
        "  def left_child(self,index):\n",
        "    return self.arm[self.get_left_child_index(index)]\n",
        "\n",
        "  def right_child(self,index):\n",
        "    return self.arm[self.get_right_child_index(index)]\n",
        "  def cheio(self):\n",
        "    return self.size == self.cap\n",
        "\n",
        "  def troca(self,index1,index2):\n",
        "    self.arm[index1],self.arm[index2] = self.arm[index2],self.arm[index1]\n",
        "\n",
        "  def insert(self,data):\n",
        "    if self.cheio():\n",
        "      raise(\"heap cheia\")\n",
        "    self.arm[self.size] = data\n",
        "    self.size +=1\n",
        "    self.heapifyUp(self.size -1)\n",
        "\n",
        "  def heapifyUp(self,index):\n",
        "    if (self.has_parent(index) and self.parent(index) > self.arm[index]):\n",
        "      self.troca(self.get_parent_index(index),index)\n",
        "      self.heapifyUp(self.get_parent_index(index))\n",
        "\n",
        "  def removemin(self):\n",
        "    if self.size == 0:\n",
        "      raise(\"heap vazia\")\n",
        "    data = self.arm[0]\n",
        "    self.arm[0] = self.arm[self.size -1]\n",
        "    self.size -=1\n",
        "    self.heapfyDown(0)\n",
        "    return data\n",
        "\n",
        "  def heapfyDown(self,index):\n",
        "    menor_filho_index  = index\n",
        "    if (self.has_left_child(index) and self.arm[menor_filho_index] > self.left_child(index)):\n",
        "      menor_filho_index = self.get_left_child_index(index)\n",
        "    if (self.has_right_child(index) and self.arm[menor_filho_index] > self.right_child(index)):\n",
        "      menor_filho_index = self.get_right_child_index(index)\n",
        "    if menor_filho_index != index:\n",
        "      self.troca(index,menor_filho_index)\n",
        "      self.heapfyDown(menor_filho_index)"
      ]
    },
    {
      "cell_type": "code",
      "source": [
        "import numpy as np\n",
        "\n",
        "A = [np.random.randint(0,100) for i in range(10)]\n",
        "\n",
        "MH = Min_heap(len(A))"
      ],
      "metadata": {
        "id": "llqHaadiPJuo"
      },
      "execution_count": 9,
      "outputs": []
    },
    {
      "cell_type": "code",
      "source": [
        "for i in range(len(A)):\n",
        "  MH.insert(A[i])"
      ],
      "metadata": {
        "id": "emoNXyBVTJ-b"
      },
      "execution_count": 10,
      "outputs": []
    },
    {
      "cell_type": "code",
      "source": [
        "print(A)"
      ],
      "metadata": {
        "colab": {
          "base_uri": "https://localhost:8080/"
        },
        "id": "zbn5fvnATfIK",
        "outputId": "73e50087-9f04-4130-ffb7-1d35e5ac56df"
      },
      "execution_count": 7,
      "outputs": [
        {
          "output_type": "stream",
          "name": "stdout",
          "text": [
            "[77, 15, 39, 27, 64, 93, 6, 69, 18, 85]\n"
          ]
        }
      ]
    },
    {
      "cell_type": "code",
      "source": [
        "print(MH.arm)\n",
        "print(MH.removemin())"
      ],
      "metadata": {
        "colab": {
          "base_uri": "https://localhost:8080/"
        },
        "id": "EjmlVrpqTizS",
        "outputId": "1a166016-e7a5-4ba7-ef12-1b49eca1606e"
      },
      "execution_count": 12,
      "outputs": [
        {
          "output_type": "stream",
          "name": "stdout",
          "text": [
            "[6, 31, 21, 35, 81, 29, 22, 74, 42, 92]\n",
            "6\n"
          ]
        }
      ]
    },
    {
      "cell_type": "code",
      "source": [
        "print(MH.arm)"
      ],
      "metadata": {
        "colab": {
          "base_uri": "https://localhost:8080/"
        },
        "id": "WBZNEAt-Ti4p",
        "outputId": "42b3a1d8-71b0-4aac-f460-f6358cb3842c"
      },
      "execution_count": 13,
      "outputs": [
        {
          "output_type": "stream",
          "name": "stdout",
          "text": [
            "[21, 31, 22, 35, 81, 29, 92, 74, 42, 92]\n"
          ]
        }
      ]
    },
    {
      "cell_type": "code",
      "source": [],
      "metadata": {
        "id": "emhsHjfPTiER"
      },
      "execution_count": null,
      "outputs": []
    }
  ]
}